{
 "cells": [
  {
   "cell_type": "code",
   "execution_count": 2,
   "id": "84346786-d4df-4d2e-9c6c-7ecd9a367bd9",
   "metadata": {},
   "outputs": [],
   "source": [
    "import random\n",
    "suits = ('Hearts', 'Diamonds', 'Spades', 'Clubs')\n",
    "ranks = ('Two', 'Three', 'Four', 'Five', 'Six', 'Seven', 'Eight', 'Nine', 'Ten', 'Jack', 'Queen', 'King', 'Ace')\n",
    "values = {'Two':2, 'Three':3, 'Four':4, 'Five':5, 'Six':6, 'Seven':7, 'Eight':8, 'Nine':9, 'Ten':10, 'Jack':10,\n",
    "         'Queen':10, 'King':10, 'Ace':11}\n",
    "\n",
    "playing = True"
   ]
  },
  {
   "cell_type": "code",
   "execution_count": 3,
   "id": "3d37f56f-160b-41d3-986f-21634d29e639",
   "metadata": {},
   "outputs": [],
   "source": [
    "#An easy way to make a deck of cards from these tuples of suits and ranks:\n",
    "# l=[]\n",
    "# suits = ('Hearts', 'Diamonds', 'Spades', 'Clubs')\n",
    "# ranks = ('Two', 'Three', 'Four', 'Five', 'Six', 'Seven', 'Eight', 'Nine', 'Ten', 'Jack', 'Queen', 'King', 'Ace')\n",
    "# for i in ranks:\n",
    "#     for j in suits:\n",
    "#         l.append(i + \" of \" + j)\n",
    "# print(l)\n",
    "# print(len(l))"
   ]
  },
  {
   "cell_type": "code",
   "execution_count": 4,
   "id": "1b0e0d18-01bd-401c-a647-50d45adf050a",
   "metadata": {},
   "outputs": [],
   "source": [
    "class Card:\n",
    "    def __init__(self, suit, rank):\n",
    "        self.suit = suit\n",
    "        self.rank = rank\n",
    "        self.value = values[rank]\n",
    "        \n",
    "    def __str__(self):\n",
    "        return self.rank + \" of \" + self.suit"
   ]
  },
  {
   "cell_type": "code",
   "execution_count": 5,
   "id": "f35e3686-040b-4d3d-8c32-8c21df6f21c8",
   "metadata": {},
   "outputs": [],
   "source": [
    "two_hearts = Card(\"Hearts\", \"Two\")"
   ]
  },
  {
   "cell_type": "code",
   "execution_count": 6,
   "id": "8cd7dc69-020e-4aa8-9c8a-eac5f86d5258",
   "metadata": {},
   "outputs": [
    {
     "name": "stdout",
     "output_type": "stream",
     "text": [
      "Two of Hearts\n"
     ]
    }
   ],
   "source": [
    "print(two_hearts)"
   ]
  },
  {
   "cell_type": "code",
   "execution_count": 7,
   "id": "8edb1061-86de-4e51-b00e-2f66d1cdec46",
   "metadata": {},
   "outputs": [
    {
     "data": {
      "text/plain": [
       "2"
      ]
     },
     "execution_count": 7,
     "metadata": {},
     "output_type": "execute_result"
    }
   ],
   "source": [
    "two_hearts.value"
   ]
  },
  {
   "cell_type": "code",
   "execution_count": 8,
   "id": "8aed27cf-0dbb-47da-92e8-1514396e2c51",
   "metadata": {},
   "outputs": [],
   "source": [
    "three_clubs = Card(\"Clubs\", \"Three\")"
   ]
  },
  {
   "cell_type": "code",
   "execution_count": 9,
   "id": "022ca9ab-7f4c-4438-979b-8c115bfb970f",
   "metadata": {},
   "outputs": [
    {
     "data": {
      "text/plain": [
       "True"
      ]
     },
     "execution_count": 9,
     "metadata": {},
     "output_type": "execute_result"
    }
   ],
   "source": [
    "two_hearts.value < three_clubs.value"
   ]
  },
  {
   "cell_type": "code",
   "execution_count": 10,
   "id": "24742eb6-6e42-4723-b796-1afcbe200f66",
   "metadata": {},
   "outputs": [],
   "source": [
    "class Deck:\n",
    "    def __init__(self):\n",
    "        self.all_cards = []\n",
    "        for rank in ranks:\n",
    "            for suit in suits:\n",
    "                created_card = Card(suit, rank)\n",
    "                self.all_cards.append(created_card)\n",
    "    def shuffle(self):\n",
    "        random.shuffle(self.all_cards)\n",
    "    def deal(self):\n",
    "        # single_card = self.deck.pop()\n",
    "        # return single_card\n",
    "        return self.all_cards.pop()\n",
    "        "
   ]
  },
  {
   "cell_type": "code",
   "execution_count": 11,
   "id": "70b32096-15e5-40b0-b850-8d455ca9e538",
   "metadata": {},
   "outputs": [],
   "source": [
    "class Player:\n",
    "\n",
    "    def __init__(self, name):\n",
    "        self.name = name\n",
    "        self.all_cards = []\n",
    "\n",
    "    def remove_one(self):\n",
    "        return self.all_cards.pop(0)\n",
    "        \n",
    "    def add_cards(self, new_cards):\n",
    "        if type(new_cards) == type([]):\n",
    "            self.all_cards.extend(new_cards)\n",
    "        else:\n",
    "            self.all_cards.append(new_cards)\n",
    "            \n",
    "        \n",
    "    def __str__(self):\n",
    "        return f'Player {self.name} has {len(self.all_cards)} cards.'\n",
    "    "
   ]
  },
  {
   "cell_type": "code",
   "execution_count": 21,
   "id": "bd78bddc-915e-4da7-9aaf-6b293c7537cb",
   "metadata": {},
   "outputs": [],
   "source": [
    "#Game setup\n",
    "player_one = Player('One')\n",
    "player_two = Player('Two')\n",
    "\n",
    "new_deck = Deck()\n",
    "new_deck.shuffle()\n",
    "\n",
    "for x in range(26):\n",
    "    player_one.add_cards(new_deck.deal())\n",
    "    player_two.add_cards(new_deck.deal())\n",
    "    "
   ]
  },
  {
   "cell_type": "code",
   "execution_count": 22,
   "id": "375bf9ca-0e5b-401e-815e-9a896f486fab",
   "metadata": {},
   "outputs": [],
   "source": [
    "game_on = True"
   ]
  },
  {
   "cell_type": "code",
   "execution_count": 20,
   "id": "71bd6615-7cc1-44c6-bb8f-c5cd9872b965",
   "metadata": {
    "scrolled": true
   },
   "outputs": [
    {
     "name": "stdout",
     "output_type": "stream",
     "text": [
      "Round Number: 1\n",
      "Round Number: 2\n",
      "Round Number: 3\n",
      "Round Number: 4\n",
      "Round Number: 5\n",
      "Round Number: 6\n",
      "Round Number: 7\n",
      "Round Number: 8\n",
      "Round Number: 9\n",
      "Round Number: 10\n",
      "Round Number: 11\n",
      "WAR!\n",
      "Round Number: 12\n",
      "Round Number: 13\n",
      "WAR!\n",
      "Round Number: 14\n",
      "Round Number: 15\n",
      "Round Number: 16\n",
      "Round Number: 17\n",
      "Round Number: 18\n",
      "Round Number: 19\n",
      "WAR!\n",
      "Round Number: 20\n",
      "Round Number: 21\n",
      "Round Number: 22\n",
      "Round Number: 23\n",
      "Round Number: 24\n",
      "Round Number: 25\n",
      "Round Number: 26\n",
      "Round Number: 27\n",
      "WAR!\n",
      "Round Number: 28\n",
      "Round Number: 29\n",
      "Round Number: 30\n",
      "WAR!\n",
      "Round Number: 31\n",
      "Round Number: 32\n",
      "Round Number: 33\n",
      "Round Number: 34\n",
      "Round Number: 35\n",
      "Round Number: 36\n",
      "Round Number: 37\n",
      "WAR!\n",
      "Round Number: 38\n",
      "Round Number: 39\n",
      "Round Number: 40\n",
      "Round Number: 41\n",
      "Round Number: 42\n",
      "Round Number: 43\n",
      "WAR!\n",
      "Player 1 unable to declare war\n",
      "Player 2 wins!\n"
     ]
    }
   ],
   "source": [
    "round_number = 0\n",
    "\n",
    "while game_on:\n",
    "    round_number += 1\n",
    "    print(f\"Round Number: {round_number}\")\n",
    "    if len(player_one.all_cards) == 0:\n",
    "        print(\"Player 1 is out of cards, Player 2 won!\")\n",
    "        game_on = False\n",
    "        break\n",
    "    if len(player_two.all_cards) == 0:\n",
    "        print(\"Player 2 is out of cards, Player 1 won!\")\n",
    "        game_on = False\n",
    "        break\n",
    "\n",
    "    #Start a new round\n",
    "    player_one_cards = []#Current cards in play\n",
    "    player_one_cards.append(player_one.remove_one())\n",
    "    \n",
    "    player_two_cards = []\n",
    "    player_two_cards.append(player_two.remove_one())\n",
    "\n",
    "    at_war = True\n",
    "\n",
    "    while at_war:\n",
    "        if player_one_cards[-1].value > player_two_cards[-1].value:\n",
    "            player_one.add_cards(player_one_cards)\n",
    "            player_two.add_cards(player_two_cards)\n",
    "            at_war = False\n",
    "        elif player_one_cards[-1].value < player_two_cards[-1].value:\n",
    "            player_two.add_cards(player_one_cards)\n",
    "            player_two.add_cards(player_two_cards)\n",
    "            at_war = False  \n",
    "        else:\n",
    "            print('WAR!')\n",
    "            if len(player_one.all_cards) < 5:\n",
    "                print('Player 1 unable to declare war')\n",
    "                print('Player 2 wins!')\n",
    "                game_on = False\n",
    "                break\n",
    "            elif len(player_two.all_cards) < 5:\n",
    "                print('Player 2 unable to declare war')\n",
    "                print('Player 1 wins!')\n",
    "                game_on = False\n",
    "                break\n",
    "            else:\n",
    "                for num in range(3):\n",
    "                    player_one_cards.append(player_one.remove_one())\n",
    "                    player_two_cards.append(player_two.remove_one())"
   ]
  }
 ],
 "metadata": {
  "kernelspec": {
   "display_name": "Python 3 (ipykernel)",
   "language": "python",
   "name": "python3"
  },
  "language_info": {
   "codemirror_mode": {
    "name": "ipython",
    "version": 3
   },
   "file_extension": ".py",
   "mimetype": "text/x-python",
   "name": "python",
   "nbconvert_exporter": "python",
   "pygments_lexer": "ipython3",
   "version": "3.12.5"
  }
 },
 "nbformat": 4,
 "nbformat_minor": 5
}
